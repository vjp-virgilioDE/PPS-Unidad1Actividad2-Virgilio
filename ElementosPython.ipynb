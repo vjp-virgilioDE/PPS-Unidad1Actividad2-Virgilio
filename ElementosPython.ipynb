{
 "cells": [
  {
   "cell_type": "markdown",
   "id": "75c4c7c1-a05d-4735-9634-6ca25b24165c",
   "metadata": {},
   "source": [
    "# CURSO DE ESPECIALIZACIÓN DE CIBERSEGURIDAD\n",
    "# IES VALLE DEL JERTE PLASENCIA\n",
    "# MÓDULO PUESTA EN PRODUCCIÓN SEGURA"
   ]
  },
  {
   "cell_type": "markdown",
   "id": "d5c0a59c-2b5c-4533-8f53-023340c749df",
   "metadata": {},
   "source": [
    "# Usando el intérprete de Python"
   ]
  },
  {
   "cell_type": "markdown",
   "id": "aca8d272-30a5-4a4e-a2c9-4c1e0c82b372",
   "metadata": {},
   "source": [
    "## Modo interactivo"
   ]
  },
  {
   "cell_type": "markdown",
   "id": "9f0c04be-c34f-4c54-9da0-ae795da853e5",
   "metadata": {},
   "source": [
    "Cuando se leen los comandos desde un terminal, se dice que el intérprete está en modo interactivo. En este modo, espera el siguiente comando con el prompt primario, generalmente tres signos de mayor que (>>>); para las líneas de continuación, aparece el prompt secundario, por defecto tres puntos (...). El intérprete imprime un mensaje de bienvenida que indica su número de versión y un aviso de copyright antes de imprimir el primer prompt primario:"
   ]
  },
  {
   "cell_type": "markdown",
   "id": "dd233695-016e-44fd-b2a5-2a47b3c992c9",
   "metadata": {},
   "source": [
    "```\n",
    "python3\n",
    "Python 3.13 (default, April 4 2023, 09:25:04)\n",
    "[GCC 10.2.0] on linux\n",
    "Type \"help\", \"copyright\", \"credits\" or \"license\" for more information.\n",
    ">>>\n",
    "```\n"
   ]
  },
  {
   "cell_type": "markdown",
   "id": "fc6cc3a1-10e4-46dc-b155-d1d4f7de03b5",
   "metadata": {},
   "source": [
    "A partir de aquí podríamos ejecutar en el terminal interactivo todas las operaciones y comandos de python que quisiéramos.\n",
    "Como estamos en un netbook, cualquier línea de código que escribamos en él, se va a ejecutar, ya que se estaría interpretando cuando le damos al botón de __run__ o bien con la combinación de teclas`Shift`+ `Enter`"
   ]
  },
  {
   "cell_type": "markdown",
   "id": "18ead4b3-b223-4763-8e80-f663a462ab74",
   "metadata": {},
   "source": [
    "## Instalar Jupyter\n",
    "Para instalar Jupyter tenemos que tener instalado python 3 y pip3.\n"
   ]
  },
  {
   "cell_type": "markdown",
   "id": "7dd575da-4c7f-4df0-aeab-01422449b45d",
   "metadata": {},
   "source": [
    "~~~\n",
    "$ sudo apt install python3\n",
    "$ sudo apt install pip3\n",
    "$ pip install jupyterlab\n",
    "# si utilizas Kali, es posible que tengas que instalar  el paquete jupiter-notebook\n",
    "$ sudo apt install jupyter-notebook\n",
    "~~~"
   ]
  },
  {
   "cell_type": "markdown",
   "id": "8d29dabe",
   "metadata": {},
   "source": [
    "## Ejecutar comandos de terminal desde notebook\n",
    "Podemos ejecutar comandos de terminal poniendo el símbolo ! delante del comando. \n",
    "Por ejemplo en la siguiente línea instalamos la extensión jupytext que nos dejará guardar el cuaderno en un archivo .py"
   ]
  },
  {
   "cell_type": "code",
   "execution_count": null,
   "id": "7857db85",
   "metadata": {
    "scrolled": true
   },
   "outputs": [],
   "source": [
    "! pip install jupytext --upgrade"
   ]
  },
  {
   "cell_type": "markdown",
   "id": "8af21b96-dbba-4431-a299-52075ec95628",
   "metadata": {},
   "source": [
    "## Usando Python como una calculadora\n",
    "El intérprete funciona como una simple calculadora: puedes introducir una expresión en él y este escribirá los valores. La sintaxis es sencilla: los operadores +, -, * y / se pueden usar para realizar operaciones aritméticas; los paréntesis (()) pueden ser usados para agrupar. Por ejemplo:"
   ]
  },
  {
   "cell_type": "code",
   "execution_count": null,
   "id": "2f04a443-f61a-4ef9-a654-ecc418b110ec",
   "metadata": {},
   "outputs": [],
   "source": [
    "2 + 2\n"
   ]
  },
  {
   "cell_type": "code",
   "execution_count": null,
   "id": "daadb7db-d8c2-41bf-9dc4-d64bd3fa8c69",
   "metadata": {},
   "outputs": [],
   "source": [
    "50 - 5*6"
   ]
  },
  {
   "cell_type": "code",
   "execution_count": null,
   "id": "69ed9326-a779-44bb-a6c1-eaec8aeacc01",
   "metadata": {},
   "outputs": [],
   "source": [
    "(50 - 5*6) / 4\n"
   ]
  },
  {
   "cell_type": "code",
   "execution_count": null,
   "id": "b88258a3-a61b-46b6-ac91-7cde45e3e27a",
   "metadata": {},
   "outputs": [],
   "source": [
    "8 / 5  # division always returns a floating-point number"
   ]
  },
  {
   "cell_type": "markdown",
   "id": "35407eb0",
   "metadata": {},
   "source": [
    "# Elemenos principales de un programa Python\n",
    "\n",
    "En este cuaderno de Jupyter vermos los principales elementos de los programas en Python.\n"
   ]
  },
  {
   "cell_type": "markdown",
   "id": "8bf33b6c",
   "metadata": {},
   "source": [
    "## Programa básico de Python\n",
    "El ejemplo siguiente muestra la plantilla de programa básico de Python 3 "
   ]
  },
  {
   "cell_type": "code",
   "execution_count": 3,
   "id": "2dfddd36",
   "metadata": {},
   "outputs": [
    {
     "ename": "SyntaxError",
     "evalue": "invalid syntax (3772185993.py, line 1)",
     "output_type": "error",
     "traceback": [
      "\u001b[0;36m  File \u001b[0;32m\"/tmp/ipykernel_5343/3772185993.py\"\u001b[0;36m, line \u001b[0;32m1\u001b[0m\n\u001b[0;31m    de main():\u001b[0m\n\u001b[0m       ^\u001b[0m\n\u001b[0;31mSyntaxError\u001b[0m\u001b[0;31m:\u001b[0m invalid syntax\n"
     ]
    }
   ],
   "source": [
    "def main():\n",
    "    print(\"¡Hola, mundo!\")\n",
    "\n",
    "\n",
    "if __name__ == \"__main__\":\n",
    "    main()"
   ]
  },
  {
   "cell_type": "markdown",
   "id": "bea79f10",
   "metadata": {},
   "source": [
    "## Comentarios\n",
    "Podemos utilizar diferentes tipos de comentarios"
   ]
  },
  {
   "cell_type": "code",
   "execution_count": 4,
   "id": "c71eddad",
   "metadata": {},
   "outputs": [
    {
     "data": {
      "text/plain": [
       "'este es el inicio de un comentario de varias líneas\\npor aquí sigue siendo comentario\\naquí acabaría '"
      ]
     },
     "execution_count": 4,
     "metadata": {},
     "output_type": "execute_result"
    }
   ],
   "source": [
    "# Comentarios de una sóla línea\n",
    "\"\"\"Podemos hacerlo con comillas dobles o simples\"\"\"\n",
    "\n",
    "# o comentarios en varias líneas\n",
    "'''este es el inicio de un comentario de varias líneas\n",
    "por aquí sigue siendo comentario\n",
    "aquí acabaría '''"
   ]
  },
  {
   "cell_type": "code",
   "execution_count": 5,
   "id": "82a59227-7e12-4162-b933-9261ece3beb9",
   "metadata": {},
   "outputs": [
    {
     "name": "stdout",
     "output_type": "stream",
     "text": [
      "los comentarios también los podemos hacer tras codigo\n"
     ]
    }
   ],
   "source": [
    "# Comentarios de una sóla línea\n",
    "'''este es el inicio de un comentario de varias líneas\n",
    "por aquí sigue siendo comentario\n",
    "aquí acabaría '''\n",
    "\"\"\"Podemos hacerlo con comillas dobles o simples\"\"\"\n",
    "print(\"los comentarios también los podemos hacer tras codigo\")   #como este"
   ]
  },
  {
   "cell_type": "markdown",
   "id": "e8448653-2639-482f-aa41-c63b331c584f",
   "metadata": {},
   "source": [
    "## Texto\n",
    "Python puede manipular texto (representado por el tipo str, conocido como «cadenas de caracteres») al igual que números. Esto incluye caracteres «!», palabras «conejo», nombres «París», oraciones «¡Te tengo a la vista!», etc. «Yay! :)». Se pueden encerrar en comillas simples ('...') o comillas dobles (\"...\") con el mismo resultado\n"
   ]
  },
  {
   "cell_type": "code",
   "execution_count": 6,
   "id": "c7ae6836-83c8-45c9-9753-d97a4eab045e",
   "metadata": {},
   "outputs": [
    {
     "data": {
      "text/plain": [
       "'spam eggs'"
      ]
     },
     "execution_count": 6,
     "metadata": {},
     "output_type": "execute_result"
    }
   ],
   "source": [
    "'spam eggs'  # single quotes"
   ]
  },
  {
   "cell_type": "code",
   "execution_count": 7,
   "id": "fa1c1b94-ac4e-404f-bdc8-fc87a38945ae",
   "metadata": {},
   "outputs": [
    {
     "data": {
      "text/plain": [
       "'Paris rabbit got your back :)! Yay!'"
      ]
     },
     "execution_count": 7,
     "metadata": {},
     "output_type": "execute_result"
    }
   ],
   "source": [
    "\"Paris rabbit got your back :)! Yay!\"  # double quotes"
   ]
  },
  {
   "cell_type": "code",
   "execution_count": 8,
   "id": "d063487c-26f5-4ace-a99e-e7c981bc38ad",
   "metadata": {},
   "outputs": [
    {
     "data": {
      "text/plain": [
       "'1975'"
      ]
     },
     "execution_count": 8,
     "metadata": {},
     "output_type": "execute_result"
    }
   ],
   "source": [
    "'1975'  # digits and numerals enclosed in quotes are also strings"
   ]
  },
  {
   "cell_type": "markdown",
   "id": "e69894fb-46a2-4eab-b3a2-02ef4d042ded",
   "metadata": {},
   "source": [
    "En el intérprete de Python, la definición de cadena y la cadena de salida pueden verse diferentes. La función print() produce una salida más legible, omitiendo las comillas de encuadre e imprimiendo caracteres escapados y especiales:"
   ]
  },
  {
   "cell_type": "code",
   "execution_count": 9,
   "id": "e2668462-c2d6-45d8-915e-61d10a4b31f3",
   "metadata": {},
   "outputs": [
    {
     "name": "stdout",
     "output_type": "stream",
     "text": [
      "First line.\n",
      "Second line.\n"
     ]
    }
   ],
   "source": [
    "s = 'First line.\\nSecond line.'  # \\n means newline\n",
    "print(s)  # with print(), special characters are interpreted, so \\n produces new line"
   ]
  },
  {
   "cell_type": "markdown",
   "id": "b95e4d0f-bfc4-40f3-844d-a174a9457b12",
   "metadata": {},
   "source": [
    "Si quieres concatenar variables o una variable y un literal, usa +:"
   ]
  },
  {
   "cell_type": "code",
   "execution_count": 10,
   "id": "36c7fa65-2a5e-4f72-8b44-e609d8933407",
   "metadata": {},
   "outputs": [
    {
     "data": {
      "text/plain": [
       "'Python'"
      ]
     },
     "execution_count": 10,
     "metadata": {},
     "output_type": "execute_result"
    }
   ],
   "source": [
    "prefix = 'Py'\n",
    "prefix + 'thon'"
   ]
  },
  {
   "cell_type": "markdown",
   "id": "406fa08d-4c92-4a40-84e1-7a4a716e1d9f",
   "metadata": {},
   "source": [
    "Las cadenas de texto se pueden indexar (subíndices), el primer carácter de la cadena tiene el índice 0. No hay un tipo de dato diferente para los caracteres; un carácter es simplemente una cadena de longitud uno:"
   ]
  },
  {
   "cell_type": "code",
   "execution_count": 11,
   "id": "c8c39c3a-4090-43c9-9e71-89754cde8c8f",
   "metadata": {},
   "outputs": [
    {
     "data": {
      "text/plain": [
       "'P'"
      ]
     },
     "execution_count": 11,
     "metadata": {},
     "output_type": "execute_result"
    }
   ],
   "source": [
    "word = 'Python'\n",
    "word[0]  # character in position 0"
   ]
  },
  {
   "cell_type": "code",
   "execution_count": 12,
   "id": "54a146fb-4949-4b37-b66d-fd906f242f8a",
   "metadata": {},
   "outputs": [
    {
     "data": {
      "text/plain": [
       "'n'"
      ]
     },
     "execution_count": 12,
     "metadata": {},
     "output_type": "execute_result"
    }
   ],
   "source": [
    "word[5]  # character in position 5"
   ]
  },
  {
   "cell_type": "markdown",
   "id": "e429aa8d-f8ec-4ed5-8830-3ff8aad2abf5",
   "metadata": {},
   "source": [
    "Los índices también pueden ser números negativos, para empezar a contar desde la derecha:"
   ]
  },
  {
   "cell_type": "code",
   "execution_count": 13,
   "id": "a6922f39-15f0-47a6-aabd-c48e23bd7471",
   "metadata": {},
   "outputs": [
    {
     "data": {
      "text/plain": [
       "'n'"
      ]
     },
     "execution_count": 13,
     "metadata": {},
     "output_type": "execute_result"
    }
   ],
   "source": [
    "word[-1]  # last character"
   ]
  },
  {
   "cell_type": "code",
   "execution_count": 14,
   "id": "8dca734f-052b-4307-bdfc-2f7b2854b92e",
   "metadata": {},
   "outputs": [
    {
     "data": {
      "text/plain": [
       "'o'"
      ]
     },
     "execution_count": 14,
     "metadata": {},
     "output_type": "execute_result"
    }
   ],
   "source": [
    "word[-2]  # second-last character"
   ]
  },
  {
   "cell_type": "raw",
   "id": "1feea5ce-3131-4d4a-8468-6b66d93d4fb3",
   "metadata": {},
   "source": [
    "Una forma de recordar cómo funcionan las rebanadas es pensar que los índices apuntan entre caracteres, con el borde izquierdo del primer carácter numerado 0. Luego, el punto derecho del último carácter de una cadena de n caracteres tiene un índice n, por ejemplo\n",
    "\n",
    " +---+---+---+---+---+---+\n",
    " | P | y | t | h | o | n |\n",
    " +---+---+---+---+---+---+\n",
    " 0   1   2   3   4   5   6\n",
    "-6  -5  -4  -3  -2  -1\n"
   ]
  },
  {
   "cell_type": "markdown",
   "id": "2490af1c",
   "metadata": {},
   "source": [
    "### Constantes\n",
    "Para la creación de constantes utilizamos nombre con mayúsculas. Le asignamos un valor, deberemos dejar espacio entre contante símbolo igual y valor."
   ]
  },
  {
   "cell_type": "code",
   "execution_count": 15,
   "id": "981efbac",
   "metadata": {},
   "outputs": [
    {
     "name": "stdout",
     "output_type": "stream",
     "text": [
      "HOLA\n"
     ]
    }
   ],
   "source": [
    "MI_CONSTANTE = 'HOLA'\n",
    "print (MI_CONSTANTE)"
   ]
  },
  {
   "cell_type": "markdown",
   "id": "9b7ee64f",
   "metadata": {},
   "source": [
    "### Variables\n",
    "Para la creación de variable utilizamos nombre con minusculas y guión bajo entre palabras.\n",
    "Al utilizar Python lenguaje de tipado dinámico no es necesario la declaración de la variable, símplemente le asignamos valores.\n",
    "El tipo se asigna de manera automática (tipado dinámico)"
   ]
  },
  {
   "cell_type": "code",
   "execution_count": 16,
   "id": "a9f64a06",
   "metadata": {},
   "outputs": [
    {
     "name": "stdout",
     "output_type": "stream",
     "text": [
      "10\n",
      "<class 'int'>\n"
     ]
    }
   ],
   "source": [
    "mi_variable = 10\n",
    "print (mi_variable)\n",
    "print (type(mi_variable))    # Nos muestra el tipo de la variable que ha asignado python\n"
   ]
  },
  {
   "cell_type": "code",
   "execution_count": 17,
   "id": "04783d50",
   "metadata": {},
   "outputs": [
    {
     "name": "stdout",
     "output_type": "stream",
     "text": [
      "b tiene un valor de  5 y un tipo  <class 'int'>\n",
      "b tiene un valor de  6.0 y un tipo  <class 'float'>\n",
      "b tiene un valor de  esto es un string y un tipo  <class 'str'>\n",
      "b tiene un valor de  8 y un tipo  <class 'int'>\n"
     ]
    }
   ],
   "source": [
    "b = 5\n",
    "print (\"b tiene un valor de \",b,\"y un tipo \",(type(b)))\n",
    "c = 6.0\n",
    "print (\"b tiene un valor de \",c,\"y un tipo \",(type(c)))\n",
    "d = \"esto es un string\"\n",
    "print (\"b tiene un valor de \",d,\"y un tipo \",(type(d)))\n",
    "d = 8       #cambiamos de valor a d y cambia de tipo \n",
    "print (\"b tiene un valor de \",d,\"y un tipo \",(type(d)))"
   ]
  },
  {
   "cell_type": "markdown",
   "id": "e11ce38e",
   "metadata": {},
   "source": [
    "Las variables solo pueden ser accedidas dentro de su\n",
    "scope (funciones, clases…).\n",
    "Keyword “global” para hacerla accesible desde fuera\n",
    "de su scope."
   ]
  },
  {
   "cell_type": "code",
   "execution_count": null,
   "id": "938171db",
   "metadata": {},
   "outputs": [],
   "source": [
    "def funcion():\n",
    "    global x\n",
    "    x = \"carlos\"   \n",
    "funcion()\n",
    "print(\"hola, me llamo \" + x)"
   ]
  },
  {
   "cell_type": "markdown",
   "id": "311c3fe3",
   "metadata": {},
   "source": [
    "### Casting de variables: conversión de un tipo de datos a otro.\n",
    "Especifica el tipo de dato (ojo, no es una declaración) str(), int(), float(), etc.\n"
   ]
  },
  {
   "cell_type": "code",
   "execution_count": 18,
   "id": "f9124b87",
   "metadata": {},
   "outputs": [
    {
     "ename": "TypeError",
     "evalue": "can only concatenate str (not \"int\") to str",
     "output_type": "error",
     "traceback": [
      "\u001b[0;31m---------------------------------------------------------------------------\u001b[0m",
      "\u001b[0;31mTypeError\u001b[0m                                 Traceback (most recent call last)",
      "\u001b[0;32m/tmp/ipykernel_5343/2882868826.py\u001b[0m in \u001b[0;36m<module>\u001b[0;34m\u001b[0m\n\u001b[1;32m      2\u001b[0m \u001b[0mnombre\u001b[0m \u001b[0;34m=\u001b[0m\u001b[0;34m\"Carlos\"\u001b[0m\u001b[0;34m\u001b[0m\u001b[0;34m\u001b[0m\u001b[0m\n\u001b[1;32m      3\u001b[0m \u001b[0medad\u001b[0m \u001b[0;34m=\u001b[0m \u001b[0;36m27\u001b[0m\u001b[0;34m\u001b[0m\u001b[0;34m\u001b[0m\u001b[0m\n\u001b[0;32m----> 4\u001b[0;31m \u001b[0mprint\u001b[0m\u001b[0;34m(\u001b[0m\u001b[0mnombre\u001b[0m \u001b[0;34m+\u001b[0m \u001b[0;34m\",\"\u001b[0m \u001b[0;34m+\u001b[0m \u001b[0medad\u001b[0m \u001b[0;34m+\u001b[0m \u001b[0;34m\" años\"\u001b[0m\u001b[0;34m)\u001b[0m\u001b[0;34m\u001b[0m\u001b[0;34m\u001b[0m\u001b[0m\n\u001b[0m\u001b[1;32m      5\u001b[0m \u001b[0;31m#nos daría error\u001b[0m\u001b[0;34m\u001b[0m\u001b[0;34m\u001b[0m\u001b[0m\n",
      "\u001b[0;31mTypeError\u001b[0m: can only concatenate str (not \"int\") to str"
     ]
    }
   ],
   "source": [
    "#Por ejemplo\n",
    "nombre =\"Carlos\"\n",
    "edad = 27\n",
    "print(nombre + \",\" + edad + \" años\") \n",
    "#nos daría error"
   ]
  },
  {
   "cell_type": "code",
   "execution_count": 19,
   "id": "7815788e",
   "metadata": {},
   "outputs": [
    {
     "name": "stdout",
     "output_type": "stream",
     "text": [
      "Carlos,27 años\n"
     ]
    }
   ],
   "source": [
    "#Para hacerlo correctamete hacemos conversión de tipo\n",
    "nombre =\"Carlos\"\n",
    "edad = 27\n",
    "print(nombre + \",\" + str(edad) + \" años\") \n",
    "#nos daría error"
   ]
  },
  {
   "cell_type": "markdown",
   "id": "ea7fec5f",
   "metadata": {},
   "source": [
    "### Estructuras de datos\n",
    "### Listas, Tuplas y rangos"
   ]
  },
  {
   "cell_type": "markdown",
   "id": "acc7ff47",
   "metadata": {},
   "source": [
    "### Listas \n",
    "Python tiene varios tipos de datos compuestos, utilizados para agrupar otros valores. El más versátil es la lista, la cual puede ser escrita como una lista de valores separados por coma (ítems) entre corchetes. Las listas pueden contener ítems de diferentes tipos, pero usualmente los ítems son del mismo tipo."
   ]
  },
  {
   "cell_type": "code",
   "execution_count": 20,
   "id": "7d39b810-5782-4c4d-a31d-59d794254169",
   "metadata": {},
   "outputs": [
    {
     "data": {
      "text/plain": [
       "[1, 4, 9, 16, 25]"
      ]
     },
     "execution_count": 20,
     "metadata": {},
     "output_type": "execute_result"
    }
   ],
   "source": [
    "squares = [1, 4, 9, 16, 25]\n",
    "squares"
   ]
  },
  {
   "cell_type": "markdown",
   "id": "554698e5-e51c-4223-80a9-79fc197759fb",
   "metadata": {},
   "source": [
    "Al igual que las cadenas (y todas las demás tipos integrados sequence), las listas se pueden indexar y segmentar:"
   ]
  },
  {
   "cell_type": "code",
   "execution_count": 21,
   "id": "a97ee898-e82f-4cb4-8f38-660060486496",
   "metadata": {},
   "outputs": [
    {
     "data": {
      "text/plain": [
       "1"
      ]
     },
     "execution_count": 21,
     "metadata": {},
     "output_type": "execute_result"
    }
   ],
   "source": [
    "squares[0]  # indexing returns the item"
   ]
  },
  {
   "cell_type": "code",
   "execution_count": 24,
   "id": "e709bc8a-522a-45d9-a4d6-37a4bd3dc6d6",
   "metadata": {},
   "outputs": [
    {
     "data": {
      "text/plain": [
       "[9, 16, 25]"
      ]
     },
     "execution_count": 24,
     "metadata": {},
     "output_type": "execute_result"
    }
   ],
   "source": [
    "squares[-3:]  # slicing returns a new list"
   ]
  },
  {
   "cell_type": "code",
   "execution_count": 25,
   "id": "e68357d0",
   "metadata": {},
   "outputs": [
    {
     "ename": "IndexError",
     "evalue": "list index out of range",
     "output_type": "error",
     "traceback": [
      "\u001b[0;31m---------------------------------------------------------------------------\u001b[0m",
      "\u001b[0;31mIndexError\u001b[0m                                Traceback (most recent call last)",
      "\u001b[0;32m/tmp/ipykernel_5343/814803663.py\u001b[0m in \u001b[0;36m<module>\u001b[0;34m\u001b[0m\n\u001b[1;32m      1\u001b[0m \u001b[0;31m# ¿Qué resultado se obtendría al acceder a“mi_lista[4]”?\u001b[0m\u001b[0;34m\u001b[0m\u001b[0;34m\u001b[0m\u001b[0m\n\u001b[0;32m----> 2\u001b[0;31m \u001b[0msquares\u001b[0m\u001b[0;34m[\u001b[0m\u001b[0;36m6\u001b[0m\u001b[0;34m]\u001b[0m\u001b[0;34m\u001b[0m\u001b[0;34m\u001b[0m\u001b[0m\n\u001b[0m\u001b[1;32m      3\u001b[0m \u001b[0;31m#Obtenemos un error ya que no existe ningún elemento\u001b[0m\u001b[0;34m\u001b[0m\u001b[0;34m\u001b[0m\u001b[0m\n",
      "\u001b[0;31mIndexError\u001b[0m: list index out of range"
     ]
    }
   ],
   "source": [
    "# ¿Qué resultado se obtendría al acceder a“mi_lista[4]”? \n",
    "squares[6]\n",
    "#Obtenemos un error ya que no existe ningún elemento"
   ]
  },
  {
   "cell_type": "markdown",
   "id": "9f215ccc-6334-4826-9f57-01e75f263857",
   "metadata": {},
   "source": [
    "Las listas también admiten operaciones como concatenación a través del método .extend():"
   ]
  },
  {
   "cell_type": "code",
   "execution_count": 27,
   "id": "fd742f57-a78a-4845-b5cc-6ad4fa28f916",
   "metadata": {},
   "outputs": [
    {
     "data": {
      "text/plain": [
       "[1, 4, 9, 16, 25, 36, 49, 64, 81, 100, 36, 49, 64, 81, 100]"
      ]
     },
     "execution_count": 27,
     "metadata": {},
     "output_type": "execute_result"
    }
   ],
   "source": [
    "squares.extend([36, 49, 64, 81, 100])\n",
    "squares"
   ]
  },
  {
   "cell_type": "markdown",
   "id": "13252c13-9414-4401-b420-ae76d4fb6d41",
   "metadata": {},
   "source": [
    "A diferencia de las cadenas, que son immutable, las listas son de tipo mutable, es decir, es posible cambiar su contenido:"
   ]
  },
  {
   "cell_type": "code",
   "execution_count": 28,
   "id": "7a8667a2-45d0-42cb-a317-17449d0eaef8",
   "metadata": {},
   "outputs": [
    {
     "data": {
      "text/plain": [
       "[1, 8, 27, 64, 125]"
      ]
     },
     "execution_count": 28,
     "metadata": {},
     "output_type": "execute_result"
    }
   ],
   "source": [
    "cubes = [1, 8, 27, 65, 125]  # something's wrong here4 ** 3  # the cube of 4 is 64, not 65!\n",
    "cubes[3] = 64  # replace the wrong value\n",
    "cubes"
   ]
  },
  {
   "cell_type": "markdown",
   "id": "c69ef2a6-ec92-4ceb-910d-9b780da4c266",
   "metadata": {},
   "source": [
    "Es posible anidar listas (crear listas que contengan otras listas), por ejemplo:"
   ]
  },
  {
   "cell_type": "code",
   "execution_count": 29,
   "id": "affcc324-6876-48ba-899b-fd36c27f03ac",
   "metadata": {},
   "outputs": [
    {
     "data": {
      "text/plain": [
       "[['a', 'b', 'c'], [1, 2, 3]]"
      ]
     },
     "execution_count": 29,
     "metadata": {},
     "output_type": "execute_result"
    }
   ],
   "source": [
    "a = ['a', 'b', 'c']\n",
    "n = [1, 2, 3]\n",
    "x = [a, n]\n",
    "x"
   ]
  },
  {
   "cell_type": "code",
   "execution_count": 30,
   "id": "4f94e862-9e5b-4d43-86b9-3a14eb8935bd",
   "metadata": {},
   "outputs": [
    {
     "data": {
      "text/plain": [
       "['a', 'b', 'c']"
      ]
     },
     "execution_count": 30,
     "metadata": {},
     "output_type": "execute_result"
    }
   ],
   "source": [
    "x[0]"
   ]
  },
  {
   "cell_type": "code",
   "execution_count": 31,
   "id": "b0f72e23-0bdf-463f-b77d-a4c7a480e8d9",
   "metadata": {},
   "outputs": [
    {
     "data": {
      "text/plain": [
       "'b'"
      ]
     },
     "execution_count": 31,
     "metadata": {},
     "output_type": "execute_result"
    }
   ],
   "source": [
    "x[0][1]"
   ]
  },
  {
   "cell_type": "markdown",
   "id": "7e87c359",
   "metadata": {},
   "source": [
    "Manipular sublistas"
   ]
  },
  {
   "cell_type": "code",
   "execution_count": 33,
   "id": "3b49efbe",
   "metadata": {},
   "outputs": [
    {
     "data": {
      "text/plain": [
       "['Lunes', 'Martes', 'Miércoles', 'Jueves', 'Viernes', 'Sábado', 'Domingo']"
      ]
     },
     "execution_count": 33,
     "metadata": {},
     "output_type": "execute_result"
    }
   ],
   "source": [
    "# Se puede obtener una sublista indicando inicio:limite(limite=fin+1)\n",
    "#mi_lista[1:4]\n",
    "dias = [\"Lunes\", \"M\", artes\", \"Miércoles\", \"Jueves\", \"Viernes\"Sábado\", \"Domingo\"]\n",
    "dias[1:4] # Se extrae una lista con los valores 1, 2 y 3\n",
    "#['Martes', 'Miércoles', 'Jueves']\n",
    "dias[4:5] # Se extrae una lista con el valor 4\n",
    "#['Viernes']\n",
    "dias[4:4] # Se extrae una lista vacía\n",
    "#[]\n",
    "dias[:4]  # Se extrae una lista hasta el valor 4 (no incluido)\n",
    "#['Lunes', 'Martes', 'Miércoles', 'Jueves']\n",
    "dias[4:]  # Se extrae una lista desde el valor 4 (incluido)\n",
    "#['Viernes', 'Sábado', 'Domingo']\n",
    "dias[:]   # Se extrae una lista con todos los valores\n",
    "#['Lunes', 'Martes', 'Miércoles', 'Jueves', 'Viernes', 'Sábado', 'Domingo']"
   ]
  },
  {
   "cell_type": "markdown",
   "id": "ab170109-406b-4935-8b84-a34271a805eb",
   "metadata": {},
   "source": [
    "La función incorporada len() retorna la longitud de una cadena:"
   ]
  },
  {
   "cell_type": "code",
   "execution_count": null,
   "id": "7952c11c-a762-40da-b9e4-3fb16c892184",
   "metadata": {},
   "outputs": [],
   "source": [
    "s = 'supercalifragilisticexpialidocious'\n",
    "len(s)"
   ]
  },
  {
   "cell_type": "markdown",
   "id": "c607eabf",
   "metadata": {},
   "source": [
    "### Tuplas\n",
    "En Python, una tupla es un conjunto ordenado e inmutable de elementos del mismo o diferente tipo.\n",
    "\n",
    "Las tuplas se representan escribiendo los elementos entre paréntesis y separados por comas."
   ]
  },
  {
   "cell_type": "code",
   "execution_count": 34,
   "id": "edb205d8",
   "metadata": {},
   "outputs": [
    {
     "ename": "IndexError",
     "evalue": "list index out of range",
     "output_type": "error",
     "traceback": [
      "\u001b[0;31m---------------------------------------------------------------------------\u001b[0m",
      "\u001b[0;31mIndexError\u001b[0m                                Traceback (most recent call last)",
      "\u001b[0;32m/tmp/ipykernel_5343/1710034255.py\u001b[0m in \u001b[0;36m<module>\u001b[0;34m\u001b[0m\n\u001b[1;32m      1\u001b[0m \u001b[0mmi_tupla\u001b[0m \u001b[0;34m=\u001b[0m \u001b[0;34m[\u001b[0m\u001b[0;36m1\u001b[0m\u001b[0;34m,\u001b[0m \u001b[0;34m\"b\"\u001b[0m\u001b[0;34m,\u001b[0m \u001b[0;36m7.18\u001b[0m\u001b[0;34m]\u001b[0m\u001b[0;34m\u001b[0m\u001b[0;34m\u001b[0m\u001b[0m\n\u001b[1;32m      2\u001b[0m \u001b[0;31m#para acceder a un elemento de la tupla usámos el índice\u001b[0m\u001b[0;34m\u001b[0m\u001b[0;34m\u001b[0m\u001b[0m\n\u001b[0;32m----> 3\u001b[0;31m \u001b[0mprint\u001b[0m \u001b[0;34m(\u001b[0m\u001b[0mmi_tupla\u001b[0m\u001b[0;34m[\u001b[0m\u001b[0;36m3\u001b[0m\u001b[0;34m]\u001b[0m\u001b[0;34m)\u001b[0m\u001b[0;34m\u001b[0m\u001b[0;34m\u001b[0m\u001b[0m\n\u001b[0m\u001b[1;32m      4\u001b[0m \u001b[0;31m#len() nos devuelve la longitud de la tupla\u001b[0m\u001b[0;34m\u001b[0m\u001b[0;34m\u001b[0m\u001b[0m\n\u001b[1;32m      5\u001b[0m \u001b[0mlen\u001b[0m\u001b[0;34m(\u001b[0m\u001b[0mmi_tupla\u001b[0m\u001b[0;34m)\u001b[0m\u001b[0;34m\u001b[0m\u001b[0;34m\u001b[0m\u001b[0m\n",
      "\u001b[0;31mIndexError\u001b[0m: list index out of range"
     ]
    }
   ],
   "source": [
    "mi_tupla = [1, \"b\", 7.18]\n",
    "#para acceder a un elemento de la tupla usámos el índice\n",
    "print (mi_tupla[2])\n",
    "#len() nos devuelve la longitud de la tupla\n",
    "len(mi_tupla)"
   ]
  },
  {
   "cell_type": "code",
   "execution_count": null,
   "id": "43d9c48f-145a-4a7c-ba2b-f9b96792f944",
   "metadata": {},
   "outputs": [],
   "source": [
    "## Entrada y salida de datos"
   ]
  },
  {
   "cell_type": "markdown",
   "id": "f52a5d9a",
   "metadata": {},
   "source": [
    "### Entrada por teclado\n",
    "Para tomar valores por teclado utilizamos la función input()"
   ]
  },
  {
   "cell_type": "code",
   "execution_count": 35,
   "id": "c9398b26",
   "metadata": {},
   "outputs": [
    {
     "name": "stdout",
     "output_type": "stream",
     "text": [
      "Introduzca un numero\n"
     ]
    },
    {
     "name": "stdin",
     "output_type": "stream",
     "text": [
      " 12\n"
     ]
    },
    {
     "name": "stdout",
     "output_type": "stream",
     "text": [
      "el número que ha introducido es 12\n"
     ]
    }
   ],
   "source": [
    "print(\"Introduzca un numero\")\n",
    "numero = input()\n",
    "print(\"el número que ha introducido es \" + numero)"
   ]
  },
  {
   "cell_type": "code",
   "execution_count": 36,
   "id": "062d1261",
   "metadata": {},
   "outputs": [
    {
     "name": "stdin",
     "output_type": "stream",
     "text": [
      "introduzca un número  12\n"
     ]
    },
    {
     "name": "stdout",
     "output_type": "stream",
     "text": [
      "12\n"
     ]
    }
   ],
   "source": [
    "#o bien podemos hacerlo directamente\n",
    "numero = input(\"introduzca un número \")\n",
    "print(numero)"
   ]
  },
  {
   "cell_type": "code",
   "execution_count": null,
   "id": "2cb62a4e-27b7-4881-9546-9e346e38d51e",
   "metadata": {},
   "outputs": [],
   "source": [
    "### Salida de datos por pantalla"
   ]
  },
  {
   "cell_type": "markdown",
   "id": "64c7acde-9562-4d15-bb3e-07518f4fd9b6",
   "metadata": {},
   "source": [
    "Para mostrar datos utilizamos la función print.\n",
    "Podemos dar formato al número mostrado. \n",
    "En este caso hacemos casting para convertirlo en cadena de caracteres:"
   ]
  },
  {
   "cell_type": "code",
   "execution_count": null,
   "id": "f7b69b9e-cc18-4649-a8f6-c70b5d9dd0c9",
   "metadata": {},
   "outputs": [],
   "source": [
    "print ('El número introducido es: ' + str(numero))"
   ]
  },
  {
   "cell_type": "markdown",
   "id": "21dbf422-dc04-4078-a064-49dd812f5a15",
   "metadata": {},
   "source": [
    "En la siguient línea usamos el método format para formatear el número pero no le aplicamos formato ninguno."
   ]
  },
  {
   "cell_type": "code",
   "execution_count": null,
   "id": "b1463e1b-9f96-4e8e-a42f-7763fb964cf5",
   "metadata": {},
   "outputs": [],
   "source": [
    "print ('El número introducido es: {}'.format(numero))"
   ]
  },
  {
   "cell_type": "markdown",
   "id": "84c61488-0c61-4e45-a6c2-186d3b359a12",
   "metadata": {},
   "source": [
    "y en este caso formateamos sólo 3 caracteres en la cadena introducida."
   ]
  },
  {
   "cell_type": "code",
   "execution_count": null,
   "id": "fb1f0ef1-9efe-40b6-9a3c-185d158de957",
   "metadata": {},
   "outputs": [],
   "source": [
    "print ('El número %d introducido es: {:.3f}'.format (3.23243545454))"
   ]
  },
  {
   "cell_type": "markdown",
   "id": "7d5b8018",
   "metadata": {},
   "source": [
    "## Sentencias de flujo de control\n",
    "En python no existe switch.\n"
   ]
  },
  {
   "cell_type": "markdown",
   "id": "23da341d",
   "metadata": {},
   "source": [
    "### Sentencia if\n",
    "podemos usar sentencias if: .... else: ....   o if: ... elif: .... else: ..... "
   ]
  },
  {
   "cell_type": "code",
   "execution_count": 38,
   "id": "5bfe0fdd",
   "metadata": {},
   "outputs": [
    {
     "name": "stdin",
     "output_type": "stream",
     "text": [
      "introduzca un número  12\n"
     ]
    },
    {
     "name": "stdout",
     "output_type": "stream",
     "text": [
      "numero positivo\n"
     ]
    }
   ],
   "source": [
    "numero = int(input(\"introduzca un número \"))\n",
    "if numero > 0:\n",
    "    print(\"numero positivo\")\n",
    "elif numero < 0:\n",
    "    print(\"numero negativo\")\n",
    "else:\n",
    "    print (\"numero es cero\")"
   ]
  },
  {
   "cell_type": "markdown",
   "id": "dfa454c6-67e6-4c84-b950-7ab3d84d5566",
   "metadata": {},
   "source": [
    "Puede haber cero o más bloques elif, y el bloque else es opcional. La palabra reservada elif es una abreviación de “else if”, y es útil para evitar un sangrado excesivo. Una secuencia if … elif … elif … sustituye las sentencias switch o case encontradas en otros lenguajes.\n",
    "\n",
    "Si necesitas comparar un mismo valor con muchas constantes, o comprobar que tenga un tipo o atributos específicos puede que encuentres útil la sentencia ``match``."
   ]
  },
  {
   "cell_type": "markdown",
   "id": "b9127c25-ab5c-4fbc-b716-0c7c63cc0f58",
   "metadata": {},
   "source": [
    "El bucle while se ejecuta mientras la condición (aquí: a < 10) sea verdadera. En Python, como en C, cualquier valor entero que no sea cero es verdadero; cero es falso. La condición también puede ser una cadena de texto o una lista, de hecho, cualquier secuencia; cualquier cosa con una longitud distinta de cero es verdadera, las secuencias vacías son falsas. La prueba utilizada en el ejemplo es una comparación simple. Los operadores de comparación estándar se escriben igual que en C: < (menor que), > (mayor que), == (igual a), <= (menor que o igual a), >= (mayor que o igual a) y != (distinto a)."
   ]
  },
  {
   "cell_type": "code",
   "execution_count": null,
   "id": "52a48d1e-02f7-4e94-b0b6-d1015020b963",
   "metadata": {},
   "outputs": [],
   "source": [
    "# Fibonacci series:\n",
    "# the sum of two elements defines the next\n",
    "a, b = 0, 1\n",
    "while a < 10:\n",
    "    print(a)\n",
    "    a, b = b, a+b"
   ]
  },
  {
   "cell_type": "markdown",
   "id": "1f2853e2",
   "metadata": {},
   "source": [
    "### Bucle for\n",
    "\n",
    "La sintaxis de un bucle for es la siguiente:\n",
    "\n",
    "for variable in elemento iterable (lista, cadena, range, etc.):\n",
    "    cuerpo del bucle\n",
    "    \n",
    "Tenemos varios ejemplos diferentes"
   ]
  },
  {
   "cell_type": "code",
   "execution_count": null,
   "id": "c88fa8c1",
   "metadata": {},
   "outputs": [],
   "source": [
    "# aquí toma cada uno de los valores de una tupla\n",
    "print(\"Comienzo\")\n",
    "for i in [\"Alba\", \"Benito\", 27]:\n",
    "    print(f\"Hola. Ahora i vale {i}\")\n",
    "print(\"Final\")"
   ]
  },
  {
   "cell_type": "code",
   "execution_count": null,
   "id": "c8cbd1cb",
   "metadata": {},
   "outputs": [],
   "source": [
    "\"\"\"en este caso podemos tomar los diferentes caraceres\n",
    "de una cadena\"\"\"\n",
    "for i in \"AMIGO\":\n",
    "    print(f\"Dame una {i}\")\n",
    "print(\"¡AMIGO!\")"
   ]
  },
  {
   "cell_type": "code",
   "execution_count": null,
   "id": "500a2bf3",
   "metadata": {},
   "outputs": [],
   "source": [
    "\"\"\"En este caso queremos realizar el bucle un número \n",
    "determinado de veces \"\"\"\n",
    "veces = int(input(\"¿Cuántas veces quiere que le salude? \"))\n",
    "for i in range(veces):\n",
    "    print(\"Hola \", end=\"\")\n",
    "print()\n",
    "print(\"Adiós\")"
   ]
  },
  {
   "cell_type": "markdown",
   "id": "f934acd2-e95d-4440-ba4e-969f8e4a4502",
   "metadata": {},
   "source": [
    "#### La función range()\n",
    "Si se necesita iterar sobre una secuencia de números, es apropiado utilizar la función integrada range(), la cual genera progresiones aritméticas:\n"
   ]
  },
  {
   "cell_type": "code",
   "execution_count": null,
   "id": "a69b67e1-ac05-401b-8224-38b9c9202bc8",
   "metadata": {},
   "outputs": [],
   "source": [
    "for i in range(5):\n",
    "    print(i)"
   ]
  },
  {
   "cell_type": "markdown",
   "id": "4289b971-55bc-4e3e-b558-fed46c4714a0",
   "metadata": {},
   "source": [
    "El valor final dado nunca es parte de la secuencia; range(10) genera 10 valores, los índices correspondientes para los ítems de una secuencia de longitud 10. Es posible hacer que el rango empiece con otro número, o especificar un incremento diferente (incluso negativo; algunas veces se lo llama “paso”):"
   ]
  },
  {
   "cell_type": "code",
   "execution_count": null,
   "id": "680be7e3-7f1e-4065-aabd-88ab071b53f6",
   "metadata": {},
   "outputs": [],
   "source": [
    "list(range(5, 10))"
   ]
  },
  {
   "cell_type": "code",
   "execution_count": null,
   "id": "4b5ae884-7c3c-446e-bcc5-97e97c9ccd0c",
   "metadata": {},
   "outputs": [],
   "source": [
    "list(range(0, 10, 3))"
   ]
  },
  {
   "cell_type": "code",
   "execution_count": null,
   "id": "920c90b3-28a4-4429-8ab3-63cab46e15c2",
   "metadata": {},
   "outputs": [],
   "source": [
    "list(range(-10, -100, -30))"
   ]
  },
  {
   "cell_type": "markdown",
   "id": "09dca6e9-8699-4e52-8bdc-78cd0ac1c785",
   "metadata": {},
   "source": [
    "Para iterar sobre los índices de una secuencia, puedes combinar range() y len() así:"
   ]
  },
  {
   "cell_type": "code",
   "execution_count": null,
   "id": "3132608b-8e33-4a4b-b7fd-e89a936361c8",
   "metadata": {},
   "outputs": [],
   "source": [
    "a = ['Mary', 'had', 'a', 'little', 'lamb']\n",
    "for i in range(len(a)):\n",
    "    print(i, a[i])"
   ]
  },
  {
   "cell_type": "markdown",
   "id": "f3a68ced-ef7f-4978-8c32-234e43c7a650",
   "metadata": {},
   "source": [
    "#### Sentencias ``break`` y ``continue``\n",
    "Estas sentencias se utilizan dentro de los bloques `` for`` y ``while``\n",
    "La sentencia ``break`` finaliza el bucle."
   ]
  },
  {
   "cell_type": "code",
   "execution_count": null,
   "id": "81232523-3645-4646-9714-945d50d45d50",
   "metadata": {},
   "outputs": [],
   "source": [
    "for n in range(2, 10):\n",
    "    for x in range(2, n):\n",
    "        if n % x == 0:\n",
    "            print(f\"{n} equals {x} * {n//x}\")\n",
    "            break"
   ]
  },
  {
   "cell_type": "markdown",
   "id": "97263173-cc6a-41ff-85c4-3ddb9acc360b",
   "metadata": {},
   "source": [
    "La sentencia ``continue`` salta a la siguiente iteración del bucle. Nos puede servir para que no se realicen acciones en la iteracción actual."
   ]
  },
  {
   "cell_type": "code",
   "execution_count": null,
   "id": "e1fe02d3-327e-415b-bdd4-57fef147d7e2",
   "metadata": {},
   "outputs": [],
   "source": [
    "for num in range(2, 10):\n",
    "    if num % 2 == 0:\n",
    "        print(f\"Found an even number {num}\")\n",
    "        continue\n",
    "    print(f\"Found an odd number {num}\")"
   ]
  },
  {
   "cell_type": "markdown",
   "id": "25b9db47-660b-4ca2-8a37-2d075732c9db",
   "metadata": {},
   "source": [
    "## Definir funciones\n",
    "La palabra reservada def se usa para definir funciones. Debe seguirle el nombre de la función y la lista de parámetros formales entre paréntesis. Las sentencias que forman el cuerpo de la función empiezan en la línea siguiente, y deben estar con sangría.\n",
    "\n",
    "La primera sentencia del cuerpo de la función puede ser opcionalmente una cadena de texto literal; esta es la cadena de texto de documentación de la función, o _docstring_"
   ]
  },
  {
   "cell_type": "code",
   "execution_count": null,
   "id": "9623e6b1-6bb0-4258-9c89-8538923ad792",
   "metadata": {},
   "outputs": [],
   "source": [
    "def fib(n):    # write Fibonacci series less than n\n",
    "    \"\"\"Print a Fibonacci series less than n.\"\"\"\n",
    "    a, b = 0, 1\n",
    "    while a < n:\n",
    "        print(a, end=' ')\n",
    "        a, b = b, a+b\n",
    "    print()"
   ]
  },
  {
   "cell_type": "code",
   "execution_count": null,
   "id": "00bafdcf-80f9-4ba9-9953-516feb0634d6",
   "metadata": {},
   "outputs": [],
   "source": [
    "fib(2000)  # Now call the function we just defined:"
   ]
  },
  {
   "cell_type": "markdown",
   "id": "23f4eafa-a640-400f-8d54-2668ae22a2c2",
   "metadata": {},
   "source": [
    "Viniendo de otros lenguajes, puedes objetar que fib no es una función, sino un procedimiento, porque no retorna un valor. De hecho, técnicamente hablando, los procedimientos sin return sí retornan un valor, aunque uno bastante aburrido. Este valor se llama None (es un nombre predefinido). El intérprete por lo general no escribe el valor None si va a ser el único valor escrito. Puede verlo si realmente lo desea utilizando print():"
   ]
  },
  {
   "cell_type": "code",
   "execution_count": null,
   "id": "c1726804-1755-4e86-9c91-4fa95d5d273d",
   "metadata": {},
   "outputs": [],
   "source": [
    "fib(0)\n",
    "print(fib(0))"
   ]
  },
  {
   "cell_type": "markdown",
   "id": "07c221f9-1197-45d7-8123-d09e33f25b87",
   "metadata": {},
   "source": [
    "Es simple escribir una función que retorne una lista con los números de la serie de Fibonacci en lugar de imprimirlos:"
   ]
  },
  {
   "cell_type": "code",
   "execution_count": 39,
   "id": "13277dcc-abc7-4558-8ff3-c16ba2904acd",
   "metadata": {},
   "outputs": [
    {
     "data": {
      "text/plain": [
       "[0, 1, 1, 2, 3, 5, 8, 13, 21, 34, 55, 89]"
      ]
     },
     "execution_count": 39,
     "metadata": {},
     "output_type": "execute_result"
    }
   ],
   "source": [
    "def fib2(n):  # return Fibonacci series up to n\n",
    "    \"\"\"Return a list containing the Fibonacci series up to n.\"\"\"\n",
    "    result = []\n",
    "    a, b = 0, 1\n",
    "    while a < n:\n",
    "        result.append(a)    # see below\n",
    "        a, b = b, a+b\n",
    "    return result\n",
    "\n",
    "f100 = fib2(100)    # call it\n",
    "f100                # write the result"
   ]
  },
  {
   "cell_type": "markdown",
   "id": "3777492e-5380-4132-b51d-fbfa39bb371a",
   "metadata": {},
   "source": [
    "Este ejemplo, como es usual, demuestra algunas características más de Python:\n",
    "La sentencia return retorna un valor en una función. return sin una expresión como argumento retorna None. Si se alcanza el final de una función, también se retorna None.\n",
    "La sentencia result.append(a) llama a un método del objeto lista result. Un método es una función que “pertenece” a un objeto y se nombra obj.methodname, dónde obj es algún objeto (puede ser una expresión), y methodname es el nombre del método que está definido por el tipo del objeto. Distintos tipos definen distintos métodos. Métodos de diferentes tipos pueden tener el mismo nombre sin causar ambigüedad. (Es posible definir tus propios tipos de objetos y métodos, usando clases, ver Clases). El método append() mostrado en el ejemplo está definido para objetos lista; añade un nuevo elemento al final de la lista. En este ejemplo es equivalente a result = result + [a], pero más eficiente."
   ]
  },
  {
   "cell_type": "markdown",
   "id": "3bd7bc92-919b-4e8e-bc5d-e4f74109b63a",
   "metadata": {},
   "source": [
    "### Argumentos con valores por omisión\n",
    "La forma más útil es especificar un valor por omisión para uno o más argumentos. Esto crea una función que puede ser llamada con menos argumentos que los que permite. Por ejemplo:"
   ]
  },
  {
   "cell_type": "code",
   "execution_count": null,
   "id": "863e7918-8e5c-4564-b60b-8f2cf781baf2",
   "metadata": {},
   "outputs": [],
   "source": [
    "def ask_ok(prompt, retries=4, reminder='Please try again!'):\n",
    "    while True:\n",
    "        reply = input(prompt)\n",
    "        if reply in {'y', 'ye', 'yes'}:\n",
    "            return True\n",
    "        if reply in {'n', 'no', 'nop', 'nope'}:\n",
    "            return False\n",
    "        retries = retries - 1\n",
    "        if retries < 0:\n",
    "            raise ValueError('invalid user response')\n",
    "        print(reminder)"
   ]
  },
  {
   "cell_type": "markdown",
   "id": "3abd2389-f952-434f-bd72-b6db5bf26aa0",
   "metadata": {},
   "source": [
    "Esta función puede ser llamada de distintas maneras:\n",
    "\n",
    "pasando sólo el argumento obligatorio: "
   ]
  },
  {
   "cell_type": "code",
   "execution_count": null,
   "id": "a1ac4b43-e01a-4e1d-b195-8faa8cb99344",
   "metadata": {},
   "outputs": [],
   "source": [
    "ask_ok('Do you really want to quit?')"
   ]
  },
  {
   "cell_type": "markdown",
   "id": "9508c918-37fe-4fec-8da8-bbf5e0520d47",
   "metadata": {},
   "source": [
    "pasando uno de los argumentos opcionales: "
   ]
  },
  {
   "cell_type": "code",
   "execution_count": null,
   "id": "cafc95f7-f9e7-43a1-87ce-34bf252e51be",
   "metadata": {},
   "outputs": [],
   "source": [
    "ask_ok('OK to overwrite the file?', 2)"
   ]
  },
  {
   "cell_type": "markdown",
   "id": "6175efc9-193e-4107-9106-877f82df1780",
   "metadata": {},
   "source": [
    "o pasando todos los argumentos:"
   ]
  },
  {
   "cell_type": "code",
   "execution_count": null,
   "id": "a33a5702-86b8-4ed1-8f8a-3376c623425e",
   "metadata": {},
   "outputs": [],
   "source": [
    "ask_ok('OK to overwrite the file?', 2, 'Come on, only yes or no!')"
   ]
  },
  {
   "cell_type": "markdown",
   "id": "13353908-2ab6-4977-b24c-d7059f886bbe",
   "metadata": {},
   "source": [
    "Este ejemplo también introduce la palabra reservada in, la cual prueba si una secuencia contiene o no un determinado valor."
   ]
  }
 ],
 "metadata": {
  "kernelspec": {
   "display_name": "Python 3 (ipykernel)",
   "language": "python",
   "name": "python3"
  },
  "language_info": {
   "codemirror_mode": {
    "name": "ipython",
    "version": 3
   },
   "file_extension": ".py",
   "mimetype": "text/x-python",
   "name": "python",
   "nbconvert_exporter": "python",
   "pygments_lexer": "ipython3",
   "version": "3.10.12"
  }
 },
 "nbformat": 4,
 "nbformat_minor": 5
}
