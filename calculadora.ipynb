{
 "cells": [
  {
   "cell_type": "markdown",
   "id": "5cc9d128-cd34-4786-a973-f3cb7edc1f51",
   "metadata": {},
   "source": [
    "\n"
   ]
  },
  {
   "cell_type": "markdown",
   "id": "fe3a12cf-bc92-4c00-9f24-e02cb11dfd84",
   "metadata": {},
   "source": [
    "#Ejercicio de calculadora\n",
    "\n",
    "Función suma:"
   ]
  },
  {
   "cell_type": "code",
   "execution_count": null,
   "id": "5c70cb3b-a06f-448b-b44e-1df05c631f09",
   "metadata": {},
   "outputs": [],
   "source": [
    "def suma(a, b):\n",
    "    return a + b\n",
    "\n"
   ]
  },
  {
   "cell_type": "markdown",
   "id": "69af86bd",
   "metadata": {},
   "source": [
    "Función resta:"
   ]
  },
  {
   "cell_type": "code",
   "execution_count": null,
   "id": "81f72bef",
   "metadata": {},
   "outputs": [],
   "source": [
    "def resta(a, b):\n",
    "    return a - b"
   ]
  },
  {
   "cell_type": "markdown",
   "id": "77608337",
   "metadata": {},
   "source": [
    "Función multiplicación:"
   ]
  },
  {
   "cell_type": "code",
   "execution_count": null,
   "id": "addc36e6",
   "metadata": {},
   "outputs": [],
   "source": [
    "def multiplicacion(a, b):\n",
    "    return a * b"
   ]
  },
  {
   "cell_type": "markdown",
   "id": "e674077c",
   "metadata": {},
   "source": [
    "Función división:\n",
    "En ella ademas de hacer la operacíon, haremos un control de errores para no dividir\n",
    "por 0."
   ]
  },
  {
   "cell_type": "code",
   "execution_count": null,
   "id": "994da132",
   "metadata": {},
   "outputs": [],
   "source": [
    "def division(a, b):\n",
    "    if b == 0:\n",
    "        return \"Error: División por cero\"\n",
    "    return a / b"
   ]
  },
  {
   "cell_type": "markdown",
   "id": "9afa3d87",
   "metadata": {},
   "source": [
    "Comprobación para ver si es un número o una letra."
   ]
  },
  {
   "cell_type": "code",
   "execution_count": null,
   "id": "fe84df2b",
   "metadata": {},
   "outputs": [],
   "source": [
    "def isNumber(valor):\n",
    "    \"\"\"Indica si el argumento introducido es un número o no.\"\"\"\n",
    "    try:\n",
    "        float(valor)  # Intentar convertir a número\n",
    "        return True\n",
    "    except ValueError:\n",
    "        return False"
   ]
  },
  {
   "cell_type": "markdown",
   "id": "ec81edcd",
   "metadata": {},
   "source": [
    "Comprobación para que el valor que introduzcamos sea un número entero\n",
    "y que sea mayor que 0."
   ]
  },
  {
   "cell_type": "code",
   "execution_count": null,
   "id": "d5121bed",
   "metadata": {},
   "outputs": [],
   "source": [
    "def mayorCero(numero):\n",
    "    \"\"\"Indica si el número pasado es mayor que cero.\"\"\"\n",
    "    if not isNumber(numero):\n",
    "        return \"Error: El valor no es un número.\"\n",
    "    return float(numero) > 0"
   ]
  },
  {
   "cell_type": "markdown",
   "id": "456274cf",
   "metadata": {},
   "source": [
    "Hacemos la función pora obtener que queremos hacer de la propia calculadora.\n",
    "\n",
    "En ella vamos a hacer un control de errores para que no se puedan introducir valores que no sean números. Y que ademas sea uno de las operaciones validas."
   ]
  },
  {
   "cell_type": "code",
   "execution_count": null,
   "id": "9b3ef35f",
   "metadata": {},
   "outputs": [],
   "source": [
    "def calculadora():\n",
    "    print(\"Seleccione una operación:\")\n",
    "    print(\"1. Suma\")\n",
    "    print(\"2. Resta\")\n",
    "    print(\"3. Multiplicación\")\n",
    "    print(\"4. División\")\n",
    "    \n",
    "    operacion = input(\"Ingrese el número de la operación (1/2/3/4): \")\n",
    "    \n",
    "    if operacion in ['1', '2', '3', '4']:\n",
    "        num1 = input(\"Ingrese el primer número: \")\n",
    "        num2 = input(\"Ingrese el segundo número: \")\n",
    "\n",
    "        # Validar que ambos números sean válidos\n",
    "        if not isNumber(num1) or not isNumber(num2):\n",
    "            print(\"Error: Ambos valores deben ser números válidos.\")\n",
    "            return\n",
    "\n",
    "        # Convertir a float después de validar\n",
    "        num1 = float(num1)\n",
    "        num2 = float(num2)\n",
    "\n",
    "        # Realizar la operación seleccionada\n",
    "        if operacion == '1':\n",
    "            print(\"Resultado:\", suma(num1, num2))\n",
    "        elif operacion == '2':\n",
    "            print(\"Resultado:\", resta(num1, num2))\n",
    "        elif operacion == '3':\n",
    "            print(\"Resultado:\", multiplicacion(num1, num2))\n",
    "        elif operacion == '4':\n",
    "            print(\"Resultado:\", division(num1, num2))\n",
    "    else:\n",
    "        print(\"Operación no válida.\")"
   ]
  }
 ],
 "metadata": {
  "kernelspec": {
   "display_name": "Python 3 (ipykernel)",
   "language": "python",
   "name": "python3"
  },
  "language_info": {
   "codemirror_mode": {
    "name": "ipython",
    "version": 3
   },
   "file_extension": ".py",
   "mimetype": "text/x-python",
   "name": "python",
   "nbconvert_exporter": "python",
   "pygments_lexer": "ipython3",
   "version": "3.12.7"
  }
 },
 "nbformat": 4,
 "nbformat_minor": 5
}
